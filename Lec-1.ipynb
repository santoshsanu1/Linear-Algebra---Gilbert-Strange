{
 "cells": [
  {
   "cell_type": "markdown",
   "metadata": {},
   "source": [
    "<h1><center>Lecture - 1</center></h1>"
   ]
  },
  {
   "cell_type": "markdown",
   "metadata": {},
   "source": [
    "##### Library Imports"
   ]
  },
  {
   "cell_type": "code",
   "execution_count": 1,
   "metadata": {},
   "outputs": [],
   "source": [
    "import numpy as np"
   ]
  },
  {
   "cell_type": "markdown",
   "metadata": {},
   "source": [
    "####  Ax=b   =>   Multiplication as linear combination of columns "
   ]
  },
  {
   "cell_type": "code",
   "execution_count": 2,
   "metadata": {},
   "outputs": [],
   "source": [
    "# Defining function for multiplication\n",
    "def linear_combination_product(A,x):\n",
    "    prod = np.zeros((A.shape[0],x.shape[1]))\n",
    "    if(A.shape[1] == x.shape[0]): # Dimension criteria\n",
    "        for j in range(x.shape[1]): # For all columns in x\n",
    "            temp = np.zeros((x.shape[0],1)) # To calculate linear combination of columns of A with coefficients x[:,j]\n",
    "            for i in range(x.shape[0]): # For all rows in x[:,j] OR for all coulmns in A\n",
    "                temp = temp + (x[i,j]*A[:,i]).reshape(A.shape[0],1) # Calculated matrix of size x.shape[0] is added\n",
    "            prod[0:,j] = temp[:,0] # after each column in x, value is assigned to prod matxix (Filled column by column)\n",
    "        return prod\n",
    "    else:\n",
    "        return 0 # Return 0 as product not possible\n"
   ]
  },
  {
   "cell_type": "markdown",
   "metadata": {},
   "source": [
    "#### Examples:"
   ]
  },
  {
   "cell_type": "code",
   "execution_count": 3,
   "metadata": {},
   "outputs": [
    {
     "name": "stdout",
     "output_type": "stream",
     "text": [
      "[[1 5 7]\n",
      " [3 5 2]\n",
      " [3 7 1]]\n",
      "[[3 2]\n",
      " [2 4]\n",
      " [1 6]]\n",
      "[[20. 64.]\n",
      " [21. 38.]\n",
      " [24. 40.]]\n"
     ]
    }
   ],
   "source": [
    "# Example - 1\n",
    "\n",
    "A = np.array([[1,5,7],[3,5,2],[3,7,1]])\n",
    "x = np.array([[3,2],[2,4],[1,6]])\n",
    "\n",
    "# Calling function        \n",
    "prod = linear_combination_product(A,x)\n",
    "print(A)\n",
    "print(x)\n",
    "print(prod)"
   ]
  },
  {
   "cell_type": "code",
   "execution_count": 4,
   "metadata": {},
   "outputs": [
    {
     "name": "stdout",
     "output_type": "stream",
     "text": [
      "[[9 2 8]\n",
      " [2 8 3]\n",
      " [2 9 7]]\n",
      "[[3 1 4 6 0 0 1 0]\n",
      " [2 8 7 5 6 5 1 4]\n",
      " [0 9 9 4 8 8 6 8]]\n",
      "[[ 31.  97. 122.  96.  76.  74.  59.  72.]\n",
      " [ 22.  93.  91.  64.  72.  64.  28.  56.]\n",
      " [ 24. 137. 134.  85. 110. 101.  53.  92.]]\n"
     ]
    }
   ],
   "source": [
    "# Example - 2\n",
    "\n",
    "A = np.random.randint(10,size=(3,3))\n",
    "x = np.random.randint(10,size=(3,8))\n",
    "\n",
    "\n",
    "# Calling function        \n",
    "prod = linear_combination_product(A,x)\n",
    "print(A)\n",
    "print(x)\n",
    "print(prod)"
   ]
  }
 ],
 "metadata": {
  "kernelspec": {
   "display_name": "Python 3",
   "language": "python",
   "name": "python3"
  },
  "language_info": {
   "codemirror_mode": {
    "name": "ipython",
    "version": 3
   },
   "file_extension": ".py",
   "mimetype": "text/x-python",
   "name": "python",
   "nbconvert_exporter": "python",
   "pygments_lexer": "ipython3",
   "version": "3.7.8"
  }
 },
 "nbformat": 4,
 "nbformat_minor": 4
}
